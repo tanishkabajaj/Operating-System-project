{
  "nbformat": 4,
  "nbformat_minor": 0,
  "metadata": {
    "colab": {
      "provenance": [],
      "authorship_tag": "ABX9TyMmAs4AmnRDGSncZxh5ttgi",
      "include_colab_link": true
    },
    "kernelspec": {
      "name": "python3",
      "display_name": "Python 3"
    },
    "language_info": {
      "name": "python"
    }
  },
  "cells": [
    {
      "cell_type": "markdown",
      "metadata": {
        "id": "view-in-github",
        "colab_type": "text"
      },
      "source": [
        "<a href=\"https://colab.research.google.com/github/tanishkabajaj/Operating-System-project/blob/main/Perceptron_Parity.ipynb\" target=\"_parent\"><img src=\"https://colab.research.google.com/assets/colab-badge.svg\" alt=\"Open In Colab\"/></a>"
      ]
    },
    {
      "cell_type": "code",
      "execution_count": 1,
      "metadata": {
        "colab": {
          "base_uri": "https://localhost:8080/"
        },
        "id": "mJmBNbYwpj0a",
        "outputId": "bd89cc5c-9bbe-4dd8-dc02-f17e1cef048f"
      },
      "outputs": [
        {
          "output_type": "stream",
          "name": "stdout",
          "text": [
            "Inputs: [0 1 1]\n",
            "Majority Output: 1\n",
            "Parity Output: 1\n",
            "XNOR Output: 0\n",
            "------------------------------\n",
            "Inputs: [1 1 1]\n",
            "Majority Output: 1\n",
            "Parity Output: 0\n",
            "XNOR Output: 1\n",
            "------------------------------\n",
            "Inputs: [0 0 0]\n",
            "Majority Output: 0\n",
            "Parity Output: 0\n",
            "XNOR Output: 1\n",
            "------------------------------\n",
            "Inputs: [1 0 0]\n",
            "Majority Output: 0\n",
            "Parity Output: 1\n",
            "XNOR Output: 0\n",
            "------------------------------\n",
            "Inputs: [1 1 0]\n",
            "Majority Output: 1\n",
            "Parity Output: 0\n",
            "XNOR Output: 1\n",
            "------------------------------\n",
            "Inputs: [0 0 1]\n",
            "Majority Output: 0\n",
            "Parity Output: 0\n",
            "XNOR Output: 1\n",
            "------------------------------\n"
          ]
        }
      ],
      "source": [
        "import numpy as np\n",
        "def unitStep(v):\n",
        "    return 1 if v >= 0 else 0\n",
        "def perceptronModel(x, w, b):\n",
        "    v = np.dot(w, x) + b\n",
        "    return unitStep(v)\n",
        "def NOT_logicFunction(x):\n",
        "    return perceptronModel(x, -1, 0.5)\n",
        "\n",
        "def AND_logicFunction(x):\n",
        "    return perceptronModel(x, np.array([1, 1]), -1.5)\n",
        "\n",
        "def OR_logicFunction(x):\n",
        "    return perceptronModel(x, np.array([1, 1]), -0.5)\n",
        "\n",
        "def XOR_logicFunction(x):\n",
        "    y1 = AND_logicFunction(x)\n",
        "    y2 = OR_logicFunction(x)\n",
        "    y3 = NOT_logicFunction(y1)\n",
        "    final_x = np.array([y2, y3])\n",
        "    return AND_logicFunction(final_x)\n",
        "def XNOR_logicFunction(x):\n",
        "    return NOT_logicFunction(XOR_logicFunction(x))\n",
        "def majorityFunction(x):\n",
        "    w = np.ones(len(x))\n",
        "    bMajority = -(len(x) // 2 + 0.5)\n",
        "    return perceptronModel(x, w, bMajority)\n",
        "def parityChecker(x):\n",
        "    return XOR_logicFunction(x[:2])\n",
        "def combinedLogic(x):\n",
        "    majority_output = majorityFunction(x)\n",
        "    parity_output = parityChecker(x)\n",
        "    xnor_output = XNOR_logicFunction(x[:2])\n",
        "    print(f\"Inputs: {x}\")\n",
        "    print(f\"Majority Output: {majority_output}\")\n",
        "    print(f\"Parity Output: {parity_output}\")\n",
        "    print(f\"XNOR Output: {xnor_output}\")\n",
        "    print(\"-\" * 30)\n",
        "test_cases = [\n",
        "    np.array([0, 1, 1]),\n",
        "    np.array([1, 1, 1]),\n",
        "    np.array([0, 0, 0]),\n",
        "    np.array([1, 0, 0]),\n",
        "    np.array([1, 1, 0]),\n",
        "    np.array([0, 0, 1])\n",
        "]\n",
        "for test in test_cases:\n",
        "    combinedLogic(test)"
      ]
    }
  ]
}